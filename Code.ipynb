{
  "cells": [
    {
      "cell_type": "markdown",
      "metadata": {
        "id": "view-in-github",
        "colab_type": "text"
      },
      "source": [
        "<a href=\"https://colab.research.google.com/github/ahmedbasemdev/Sentiment-Analysis-With-BERT/blob/main/Code.ipynb\" target=\"_parent\"><img src=\"https://colab.research.google.com/assets/colab-badge.svg\" alt=\"Open In Colab\"/></a>"
      ]
    },
    {
      "cell_type": "markdown",
      "metadata": {
        "id": "zxH3fXWDgVl_"
      },
      "source": [
        "## Import "
      ]
    },
    {
      "cell_type": "code",
      "execution_count": 67,
      "metadata": {
        "colab": {
          "base_uri": "https://localhost:8080/"
        },
        "id": "UvBCWF4sgVmD",
        "outputId": "75c403ab-91cd-4612-ca34-a26d67f9b554"
      },
      "outputs": [
        {
          "output_type": "stream",
          "name": "stdout",
          "text": [
            "Looking in indexes: https://pypi.org/simple, https://us-python.pkg.dev/colab-wheels/public/simple/\n",
            "Requirement already satisfied: transformers in /usr/local/lib/python3.7/dist-packages (4.22.2)\n",
            "Requirement already satisfied: tqdm>=4.27 in /usr/local/lib/python3.7/dist-packages (from transformers) (4.64.1)\n",
            "Requirement already satisfied: requests in /usr/local/lib/python3.7/dist-packages (from transformers) (2.23.0)\n",
            "Requirement already satisfied: filelock in /usr/local/lib/python3.7/dist-packages (from transformers) (3.8.0)\n",
            "Requirement already satisfied: tokenizers!=0.11.3,<0.13,>=0.11.1 in /usr/local/lib/python3.7/dist-packages (from transformers) (0.12.1)\n",
            "Requirement already satisfied: regex!=2019.12.17 in /usr/local/lib/python3.7/dist-packages (from transformers) (2022.6.2)\n",
            "Requirement already satisfied: numpy>=1.17 in /usr/local/lib/python3.7/dist-packages (from transformers) (1.21.6)\n",
            "Requirement already satisfied: importlib-metadata in /usr/local/lib/python3.7/dist-packages (from transformers) (5.0.0)\n",
            "Requirement already satisfied: huggingface-hub<1.0,>=0.9.0 in /usr/local/lib/python3.7/dist-packages (from transformers) (0.10.0)\n",
            "Requirement already satisfied: packaging>=20.0 in /usr/local/lib/python3.7/dist-packages (from transformers) (21.3)\n",
            "Requirement already satisfied: pyyaml>=5.1 in /usr/local/lib/python3.7/dist-packages (from transformers) (6.0)\n",
            "Requirement already satisfied: typing-extensions>=3.7.4.3 in /usr/local/lib/python3.7/dist-packages (from huggingface-hub<1.0,>=0.9.0->transformers) (4.1.1)\n",
            "Requirement already satisfied: pyparsing!=3.0.5,>=2.0.2 in /usr/local/lib/python3.7/dist-packages (from packaging>=20.0->transformers) (3.0.9)\n",
            "Requirement already satisfied: zipp>=0.5 in /usr/local/lib/python3.7/dist-packages (from importlib-metadata->transformers) (3.8.1)\n",
            "Requirement already satisfied: certifi>=2017.4.17 in /usr/local/lib/python3.7/dist-packages (from requests->transformers) (2022.9.24)\n",
            "Requirement already satisfied: idna<3,>=2.5 in /usr/local/lib/python3.7/dist-packages (from requests->transformers) (2.10)\n",
            "Requirement already satisfied: urllib3!=1.25.0,!=1.25.1,<1.26,>=1.21.1 in /usr/local/lib/python3.7/dist-packages (from requests->transformers) (1.24.3)\n",
            "Requirement already satisfied: chardet<4,>=3.0.2 in /usr/local/lib/python3.7/dist-packages (from requests->transformers) (3.0.4)\n"
          ]
        }
      ],
      "source": [
        "pip install transformers"
      ]
    },
    {
      "cell_type": "code",
      "execution_count": 68,
      "metadata": {
        "colab": {
          "base_uri": "https://localhost:8080/"
        },
        "id": "QBRsdhMEi-M7",
        "outputId": "c58d6a7f-a9a9-470d-d6e5-00a8e19f8e2a"
      },
      "outputs": [
        {
          "output_type": "stream",
          "name": "stdout",
          "text": [
            "Drive already mounted at /content/drive; to attempt to forcibly remount, call drive.mount(\"/content/drive\", force_remount=True).\n"
          ]
        }
      ],
      "source": [
        "# get our project files from google drive\n",
        "from google.colab import drive\n",
        "drive.mount('/content/drive')"
      ]
    },
    {
      "cell_type": "code",
      "execution_count": 69,
      "metadata": {
        "colab": {
          "base_uri": "https://localhost:8080/"
        },
        "id": "c10SwP9HjCIT",
        "outputId": "87afa31c-c519-4996-dc02-f69fcefe977c"
      },
      "outputs": [
        {
          "output_type": "stream",
          "name": "stdout",
          "text": [
            "/content/drive/MyDrive/Sentiment Analysis with BERT\n"
          ]
        }
      ],
      "source": [
        "cd \"/content/drive/MyDrive/Sentiment Analysis with BERT\""
      ]
    },
    {
      "cell_type": "code",
      "execution_count": 70,
      "metadata": {
        "colab": {
          "base_uri": "https://localhost:8080/"
        },
        "id": "49zC1NfKgbG1",
        "outputId": "a4f583dc-a7c6-43d7-ae53-24555a0404ba"
      },
      "outputs": [
        {
          "output_type": "execute_result",
          "data": {
            "text/plain": [
              "device(type='cuda', index=0)"
            ]
          },
          "metadata": {},
          "execution_count": 70
        }
      ],
      "source": [
        "import transformers\n",
        "from transformers import BertModel , BertTokenizer , AdamW , get_linear_schedule_with_warmup\n",
        "import torch\n",
        "import torch.nn.functional as F\n",
        "import pandas as pd\n",
        "import numpy as np\n",
        "import seaborn as sns\n",
        "from pylab import rcParams\n",
        "import matplotlib.pyplot as plt\n",
        "from matplotlib import rc\n",
        "from sklearn.model_selection import train_test_split\n",
        "from sklearn.metrics import confusion_matrix, classification_report\n",
        "from collections import defaultdict\n",
        "\n",
        "from torch import nn , optim\n",
        "from torch.utils.data import DataLoader , Dataset\n",
        "\n",
        "%matplotlib inline\n",
        "%config InlineBackend.figure_format='retina'\n",
        "sns.set(style='whitegrid', palette='muted', font_scale=1.2)\n",
        "HAPPY_COLORS_PALETTE = [\"#01BEFE\", \"#FFDD00\", \"#FF7D00\", \"#FF006D\", \"#ADFF02\", \"#8F00FF\"]\n",
        "sns.set_palette(sns.color_palette(HAPPY_COLORS_PALETTE))\n",
        "rcParams['figure.figsize'] = 12, 8\n",
        "RANDOM_SEED = 42\n",
        "np.random.seed(RANDOM_SEED)\n",
        "torch.manual_seed(RANDOM_SEED)\n",
        "device = torch.device(\"cuda:0\" if torch.cuda.is_available() else \"cpu\")\n",
        "device"
      ]
    },
    {
      "cell_type": "code",
      "execution_count": 71,
      "metadata": {
        "colab": {
          "base_uri": "https://localhost:8080/"
        },
        "id": "kzBoaNkvhEbU",
        "outputId": "8ab92119-6ed5-4671-a56f-c38b3dd03601"
      },
      "outputs": [
        {
          "output_type": "stream",
          "name": "stdout",
          "text": [
            "/usr/local/lib/python3.7/dist-packages/gdown/cli.py:131: FutureWarning: Option `--id` was deprecated in version 4.3.1 and will be removed in 5.0. You don't need to pass it anymore to use a file ID.\n",
            "  category=FutureWarning,\n",
            "Downloading...\n",
            "From: https://drive.google.com/uc?id=1S6qMioqPJjyBLpLVz4gmRTnJHnjitnuV\n",
            "To: /content/drive/MyDrive/Sentiment Analysis with BERT/apps.csv\n",
            "100% 134k/134k [00:00<00:00, 50.0MB/s]\n",
            "/usr/local/lib/python3.7/dist-packages/gdown/cli.py:131: FutureWarning: Option `--id` was deprecated in version 4.3.1 and will be removed in 5.0. You don't need to pass it anymore to use a file ID.\n",
            "  category=FutureWarning,\n",
            "Downloading...\n",
            "From: https://drive.google.com/uc?id=1zdmewp7ayS4js4VtrJEHzAheSW-5NBZv\n",
            "To: /content/drive/MyDrive/Sentiment Analysis with BERT/reviews.csv\n",
            "100% 7.17M/7.17M [00:00<00:00, 112MB/s]\n"
          ]
        }
      ],
      "source": [
        "# downlaod dataset from google drive\n",
        "!gdown --id 1S6qMioqPJjyBLpLVz4gmRTnJHnjitnuV\n",
        "!gdown --id 1zdmewp7ayS4js4VtrJEHzAheSW-5NBZv"
      ]
    },
    {
      "cell_type": "code",
      "execution_count": 73,
      "metadata": {
        "colab": {
          "base_uri": "https://localhost:8080/"
        },
        "id": "piwpJrOTi4kw",
        "outputId": "797f2e05-470c-4f31-ad62-8df819091772"
      },
      "outputs": [
        {
          "output_type": "stream",
          "name": "stdout",
          "text": [
            "apps.csv  Code.ipynb  reviews.csv\n"
          ]
        }
      ],
      "source": [
        "# list of files in  project directory\n",
        "!ls"
      ]
    },
    {
      "cell_type": "code",
      "execution_count": 74,
      "metadata": {
        "colab": {
          "base_uri": "https://localhost:8080/",
          "height": 687
        },
        "id": "Uvstv-v6i7tY",
        "outputId": "ffa78cd9-cda4-4d31-b889-bdab4fa460d3"
      },
      "outputs": [
        {
          "output_type": "execute_result",
          "data": {
            "text/plain": [
              "           userName                                          userImage  \\\n",
              "0     Andrew Thomas  https://lh3.googleusercontent.com/a-/AOh14GiHd...   \n",
              "1      Craig Haines  https://lh3.googleusercontent.com/-hoe0kwSJgPQ...   \n",
              "2     steven adkins  https://lh3.googleusercontent.com/a-/AOh14GiXw...   \n",
              "3  Lars Panzerbjørn  https://lh3.googleusercontent.com/a-/AOh14Gg-h...   \n",
              "4     Scott Prewitt  https://lh3.googleusercontent.com/-K-X1-YsVd6U...   \n",
              "\n",
              "                                             content  score  thumbsUpCount  \\\n",
              "0  Update: After getting a response from the deve...      1             21   \n",
              "1  Used it for a fair amount of time without any ...      1             11   \n",
              "2  Your app sucks now!!!!! Used to be good but no...      1             17   \n",
              "3  It seems OK, but very basic. Recurring tasks n...      1            192   \n",
              "4  Absolutely worthless. This app runs a prohibit...      1             42   \n",
              "\n",
              "  reviewCreatedVersion                   at  \\\n",
              "0             4.17.0.3  2020-04-05 22:25:57   \n",
              "1             4.17.0.3  2020-04-04 13:40:01   \n",
              "2             4.17.0.3  2020-04-01 16:18:13   \n",
              "3             4.17.0.2  2020-03-12 08:17:34   \n",
              "4             4.17.0.2  2020-03-14 17:41:01   \n",
              "\n",
              "                                        replyContent            repliedAt  \\\n",
              "0  According to our TOS, and the term you have ag...  2020-04-05 15:10:24   \n",
              "1  It sounds like you logged in with a different ...  2020-04-05 15:11:35   \n",
              "2  This sounds odd! We are not aware of any issue...  2020-04-02 16:05:56   \n",
              "3  We do offer this option as part of the Advance...  2020-03-15 06:20:13   \n",
              "4  We're sorry you feel this way! 90% of the app ...  2020-03-15 23:45:51   \n",
              "\n",
              "       sortOrder      appId  \n",
              "0  most_relevant  com.anydo  \n",
              "1  most_relevant  com.anydo  \n",
              "2  most_relevant  com.anydo  \n",
              "3  most_relevant  com.anydo  \n",
              "4  most_relevant  com.anydo  "
            ],
            "text/html": [
              "\n",
              "  <div id=\"df-31109814-a6e6-446a-a7f4-bee760ebe892\">\n",
              "    <div class=\"colab-df-container\">\n",
              "      <div>\n",
              "<style scoped>\n",
              "    .dataframe tbody tr th:only-of-type {\n",
              "        vertical-align: middle;\n",
              "    }\n",
              "\n",
              "    .dataframe tbody tr th {\n",
              "        vertical-align: top;\n",
              "    }\n",
              "\n",
              "    .dataframe thead th {\n",
              "        text-align: right;\n",
              "    }\n",
              "</style>\n",
              "<table border=\"1\" class=\"dataframe\">\n",
              "  <thead>\n",
              "    <tr style=\"text-align: right;\">\n",
              "      <th></th>\n",
              "      <th>userName</th>\n",
              "      <th>userImage</th>\n",
              "      <th>content</th>\n",
              "      <th>score</th>\n",
              "      <th>thumbsUpCount</th>\n",
              "      <th>reviewCreatedVersion</th>\n",
              "      <th>at</th>\n",
              "      <th>replyContent</th>\n",
              "      <th>repliedAt</th>\n",
              "      <th>sortOrder</th>\n",
              "      <th>appId</th>\n",
              "    </tr>\n",
              "  </thead>\n",
              "  <tbody>\n",
              "    <tr>\n",
              "      <th>0</th>\n",
              "      <td>Andrew Thomas</td>\n",
              "      <td>https://lh3.googleusercontent.com/a-/AOh14GiHd...</td>\n",
              "      <td>Update: After getting a response from the deve...</td>\n",
              "      <td>1</td>\n",
              "      <td>21</td>\n",
              "      <td>4.17.0.3</td>\n",
              "      <td>2020-04-05 22:25:57</td>\n",
              "      <td>According to our TOS, and the term you have ag...</td>\n",
              "      <td>2020-04-05 15:10:24</td>\n",
              "      <td>most_relevant</td>\n",
              "      <td>com.anydo</td>\n",
              "    </tr>\n",
              "    <tr>\n",
              "      <th>1</th>\n",
              "      <td>Craig Haines</td>\n",
              "      <td>https://lh3.googleusercontent.com/-hoe0kwSJgPQ...</td>\n",
              "      <td>Used it for a fair amount of time without any ...</td>\n",
              "      <td>1</td>\n",
              "      <td>11</td>\n",
              "      <td>4.17.0.3</td>\n",
              "      <td>2020-04-04 13:40:01</td>\n",
              "      <td>It sounds like you logged in with a different ...</td>\n",
              "      <td>2020-04-05 15:11:35</td>\n",
              "      <td>most_relevant</td>\n",
              "      <td>com.anydo</td>\n",
              "    </tr>\n",
              "    <tr>\n",
              "      <th>2</th>\n",
              "      <td>steven adkins</td>\n",
              "      <td>https://lh3.googleusercontent.com/a-/AOh14GiXw...</td>\n",
              "      <td>Your app sucks now!!!!! Used to be good but no...</td>\n",
              "      <td>1</td>\n",
              "      <td>17</td>\n",
              "      <td>4.17.0.3</td>\n",
              "      <td>2020-04-01 16:18:13</td>\n",
              "      <td>This sounds odd! We are not aware of any issue...</td>\n",
              "      <td>2020-04-02 16:05:56</td>\n",
              "      <td>most_relevant</td>\n",
              "      <td>com.anydo</td>\n",
              "    </tr>\n",
              "    <tr>\n",
              "      <th>3</th>\n",
              "      <td>Lars Panzerbjørn</td>\n",
              "      <td>https://lh3.googleusercontent.com/a-/AOh14Gg-h...</td>\n",
              "      <td>It seems OK, but very basic. Recurring tasks n...</td>\n",
              "      <td>1</td>\n",
              "      <td>192</td>\n",
              "      <td>4.17.0.2</td>\n",
              "      <td>2020-03-12 08:17:34</td>\n",
              "      <td>We do offer this option as part of the Advance...</td>\n",
              "      <td>2020-03-15 06:20:13</td>\n",
              "      <td>most_relevant</td>\n",
              "      <td>com.anydo</td>\n",
              "    </tr>\n",
              "    <tr>\n",
              "      <th>4</th>\n",
              "      <td>Scott Prewitt</td>\n",
              "      <td>https://lh3.googleusercontent.com/-K-X1-YsVd6U...</td>\n",
              "      <td>Absolutely worthless. This app runs a prohibit...</td>\n",
              "      <td>1</td>\n",
              "      <td>42</td>\n",
              "      <td>4.17.0.2</td>\n",
              "      <td>2020-03-14 17:41:01</td>\n",
              "      <td>We're sorry you feel this way! 90% of the app ...</td>\n",
              "      <td>2020-03-15 23:45:51</td>\n",
              "      <td>most_relevant</td>\n",
              "      <td>com.anydo</td>\n",
              "    </tr>\n",
              "  </tbody>\n",
              "</table>\n",
              "</div>\n",
              "      <button class=\"colab-df-convert\" onclick=\"convertToInteractive('df-31109814-a6e6-446a-a7f4-bee760ebe892')\"\n",
              "              title=\"Convert this dataframe to an interactive table.\"\n",
              "              style=\"display:none;\">\n",
              "        \n",
              "  <svg xmlns=\"http://www.w3.org/2000/svg\" height=\"24px\"viewBox=\"0 0 24 24\"\n",
              "       width=\"24px\">\n",
              "    <path d=\"M0 0h24v24H0V0z\" fill=\"none\"/>\n",
              "    <path d=\"M18.56 5.44l.94 2.06.94-2.06 2.06-.94-2.06-.94-.94-2.06-.94 2.06-2.06.94zm-11 1L8.5 8.5l.94-2.06 2.06-.94-2.06-.94L8.5 2.5l-.94 2.06-2.06.94zm10 10l.94 2.06.94-2.06 2.06-.94-2.06-.94-.94-2.06-.94 2.06-2.06.94z\"/><path d=\"M17.41 7.96l-1.37-1.37c-.4-.4-.92-.59-1.43-.59-.52 0-1.04.2-1.43.59L10.3 9.45l-7.72 7.72c-.78.78-.78 2.05 0 2.83L4 21.41c.39.39.9.59 1.41.59.51 0 1.02-.2 1.41-.59l7.78-7.78 2.81-2.81c.8-.78.8-2.07 0-2.86zM5.41 20L4 18.59l7.72-7.72 1.47 1.35L5.41 20z\"/>\n",
              "  </svg>\n",
              "      </button>\n",
              "      \n",
              "  <style>\n",
              "    .colab-df-container {\n",
              "      display:flex;\n",
              "      flex-wrap:wrap;\n",
              "      gap: 12px;\n",
              "    }\n",
              "\n",
              "    .colab-df-convert {\n",
              "      background-color: #E8F0FE;\n",
              "      border: none;\n",
              "      border-radius: 50%;\n",
              "      cursor: pointer;\n",
              "      display: none;\n",
              "      fill: #1967D2;\n",
              "      height: 32px;\n",
              "      padding: 0 0 0 0;\n",
              "      width: 32px;\n",
              "    }\n",
              "\n",
              "    .colab-df-convert:hover {\n",
              "      background-color: #E2EBFA;\n",
              "      box-shadow: 0px 1px 2px rgba(60, 64, 67, 0.3), 0px 1px 3px 1px rgba(60, 64, 67, 0.15);\n",
              "      fill: #174EA6;\n",
              "    }\n",
              "\n",
              "    [theme=dark] .colab-df-convert {\n",
              "      background-color: #3B4455;\n",
              "      fill: #D2E3FC;\n",
              "    }\n",
              "\n",
              "    [theme=dark] .colab-df-convert:hover {\n",
              "      background-color: #434B5C;\n",
              "      box-shadow: 0px 1px 3px 1px rgba(0, 0, 0, 0.15);\n",
              "      filter: drop-shadow(0px 1px 2px rgba(0, 0, 0, 0.3));\n",
              "      fill: #FFFFFF;\n",
              "    }\n",
              "  </style>\n",
              "\n",
              "      <script>\n",
              "        const buttonEl =\n",
              "          document.querySelector('#df-31109814-a6e6-446a-a7f4-bee760ebe892 button.colab-df-convert');\n",
              "        buttonEl.style.display =\n",
              "          google.colab.kernel.accessAllowed ? 'block' : 'none';\n",
              "\n",
              "        async function convertToInteractive(key) {\n",
              "          const element = document.querySelector('#df-31109814-a6e6-446a-a7f4-bee760ebe892');\n",
              "          const dataTable =\n",
              "            await google.colab.kernel.invokeFunction('convertToInteractive',\n",
              "                                                     [key], {});\n",
              "          if (!dataTable) return;\n",
              "\n",
              "          const docLinkHtml = 'Like what you see? Visit the ' +\n",
              "            '<a target=\"_blank\" href=https://colab.research.google.com/notebooks/data_table.ipynb>data table notebook</a>'\n",
              "            + ' to learn more about interactive tables.';\n",
              "          element.innerHTML = '';\n",
              "          dataTable['output_type'] = 'display_data';\n",
              "          await google.colab.output.renderOutput(dataTable, element);\n",
              "          const docLink = document.createElement('div');\n",
              "          docLink.innerHTML = docLinkHtml;\n",
              "          element.appendChild(docLink);\n",
              "        }\n",
              "      </script>\n",
              "    </div>\n",
              "  </div>\n",
              "  "
            ]
          },
          "metadata": {},
          "execution_count": 74
        }
      ],
      "source": [
        "# read the data\n",
        "data = pd.read_csv('reviews.csv')\n",
        "data.head()"
      ]
    },
    {
      "cell_type": "code",
      "execution_count": 75,
      "metadata": {
        "colab": {
          "base_uri": "https://localhost:8080/"
        },
        "id": "_P8uP4X5i8q5",
        "outputId": "ec86e02c-95e8-4356-fbf7-30e265e05039"
      },
      "outputs": [
        {
          "output_type": "stream",
          "name": "stdout",
          "text": [
            "There are 15746 Rows and 11 Columns in our DataSet\n"
          ]
        }
      ],
      "source": [
        "print(f\"There are {data.shape[0]} Rows and {data.shape[1]} Columns in our DataSet\")"
      ]
    },
    {
      "cell_type": "code",
      "execution_count": 75,
      "metadata": {
        "id": "8k6EUpe5jooF"
      },
      "outputs": [],
      "source": []
    },
    {
      "cell_type": "markdown",
      "metadata": {
        "id": "lUdPq18JjpNn"
      },
      "source": [
        "we have about 16k examples , let's check for missing values"
      ]
    },
    {
      "cell_type": "code",
      "execution_count": 76,
      "metadata": {
        "colab": {
          "base_uri": "https://localhost:8080/"
        },
        "id": "e_jI6Fx4jgCb",
        "outputId": "64abdb31-9401-41e0-bb70-bebc34f54dca"
      },
      "outputs": [
        {
          "output_type": "stream",
          "name": "stdout",
          "text": [
            "<class 'pandas.core.frame.DataFrame'>\n",
            "RangeIndex: 15746 entries, 0 to 15745\n",
            "Data columns (total 11 columns):\n",
            " #   Column                Non-Null Count  Dtype \n",
            "---  ------                --------------  ----- \n",
            " 0   userName              15746 non-null  object\n",
            " 1   userImage             15746 non-null  object\n",
            " 2   content               15746 non-null  object\n",
            " 3   score                 15746 non-null  int64 \n",
            " 4   thumbsUpCount         15746 non-null  int64 \n",
            " 5   reviewCreatedVersion  13533 non-null  object\n",
            " 6   at                    15746 non-null  object\n",
            " 7   replyContent          7367 non-null   object\n",
            " 8   repliedAt             7367 non-null   object\n",
            " 9   sortOrder             15746 non-null  object\n",
            " 10  appId                 15746 non-null  object\n",
            "dtypes: int64(2), object(9)\n",
            "memory usage: 1.3+ MB\n"
          ]
        }
      ],
      "source": [
        "data.info()"
      ]
    },
    {
      "cell_type": "markdown",
      "metadata": {
        "id": "Puro61gTkCJg"
      },
      "source": [
        "Great , no missing values in the score and review text , Do we have class Imbalance"
      ]
    },
    {
      "cell_type": "code",
      "execution_count": 77,
      "metadata": {
        "colab": {
          "base_uri": "https://localhost:8080/",
          "height": 561
        },
        "id": "KoaSEY3Gjjvg",
        "outputId": "a54f92aa-0b84-4469-83a8-2db9ccc950f6"
      },
      "outputs": [
        {
          "output_type": "stream",
          "name": "stderr",
          "text": [
            "/usr/local/lib/python3.7/dist-packages/seaborn/_decorators.py:43: FutureWarning: Pass the following variable as a keyword arg: x. From version 0.12, the only valid positional argument will be `data`, and passing other arguments without an explicit keyword will result in an error or misinterpretation.\n",
            "  FutureWarning\n"
          ]
        },
        {
          "output_type": "display_data",
          "data": {
            "text/plain": [
              "<Figure size 864x576 with 1 Axes>"
            ],
            "image/png": "[encoded data removed]"
          },
          "metadata": {
            "image/png": {
              "width": 745,
              "height": 489
            }
          }
        }
      ],
      "source": [
        "sns.countplot(data.score)\n",
        "plt.xlabel('review score');\n",
        "plt.show()"
      ]
    },
    {
      "cell_type": "markdown",
      "metadata": {
        "id": "mKhAVMTRlVVz"
      },
      "source": [
        "that is hugely imbalance , but it's okay  , we are going to cenvert the dataset into Negative , Positive and Neutral"
      ]
    },
    {
      "cell_type": "code",
      "execution_count": 78,
      "metadata": {
        "colab": {
          "base_uri": "https://localhost:8080/"
        },
        "id": "HDxFrpVvl-Mv",
        "outputId": "b91c76ce-2d94-4efc-e067-ac8b7da05678"
      },
      "outputs": [
        {
          "output_type": "execute_result",
          "data": {
            "text/plain": [
              "3    5042\n",
              "5    2900\n",
              "4    2776\n",
              "1    2566\n",
              "2    2462\n",
              "Name: score, dtype: int64"
            ]
          },
          "metadata": {},
          "execution_count": 78
        }
      ],
      "source": [
        "data.score.value_counts()"
      ]
    },
    {
      "cell_type": "code",
      "execution_count": 79,
      "metadata": {
        "id": "R3wxhhS6kXHB"
      },
      "outputs": [],
      "source": [
        "def intSentiment(sentiment):\n",
        "  sentiment = int(sentiment)\n",
        "  if sentiment < 3 :\n",
        "    return 0\n",
        "  if sentiment == 3:\n",
        "    return 1\n",
        "  if sentiment > 3:\n",
        "    return 2"
      ]
    },
    {
      "cell_type": "code",
      "execution_count": 80,
      "metadata": {
        "id": "9z2AszDamc8B"
      },
      "outputs": [],
      "source": [
        "# transform setiment form 1 to 5 into 3 class positive \"2\" , neutral \"1\"  , negtive \" 0\"\n",
        "data['sentiment'] = data['score'].apply(intSentiment)"
      ]
    },
    {
      "cell_type": "code",
      "execution_count": 81,
      "metadata": {
        "colab": {
          "base_uri": "https://localhost:8080/",
          "height": 578
        },
        "id": "XQF59g1imlTx",
        "outputId": "f2774603-86d1-48c0-f050-6e805896545b"
      },
      "outputs": [
        {
          "output_type": "stream",
          "name": "stderr",
          "text": [
            "/usr/local/lib/python3.7/dist-packages/seaborn/_decorators.py:43: FutureWarning: Pass the following variable as a keyword arg: x. From version 0.12, the only valid positional argument will be `data`, and passing other arguments without an explicit keyword will result in an error or misinterpretation.\n",
            "  FutureWarning\n"
          ]
        },
        {
          "output_type": "execute_result",
          "data": {
            "text/plain": [
              "[Text(0, 0, 'Negative'), Text(0, 0, 'Neutral'), Text(0, 0, 'Positive')]"
            ]
          },
          "metadata": {},
          "execution_count": 81
        },
        {
          "output_type": "display_data",
          "data": {
            "text/plain": [
              "<Figure size 864x576 with 1 Axes>"
            ],
            "image/png": "[encoded data removed]"
          },
          "metadata": {
            "image/png": {
              "width": 745,
              "height": 489
            }
          }
        }
      ],
      "source": [
        "classNames = ['Negative','Neutral','Positive']\n",
        "\n",
        "ax = sns.countplot(data['sentiment'])\n",
        "plt.xlabel('review Sentiment')\n",
        "ax.set_xticklabels(classNames)"
      ]
    },
    {
      "cell_type": "markdown",
      "metadata": {
        "id": "QFXCVrCjnWxS"
      },
      "source": [
        "The balance was  restored \"Mostly\""
      ]
    },
    {
      "cell_type": "markdown",
      "metadata": {
        "id": "abv5pwwonlGg"
      },
      "source": [
        "## Data Preprocessing\n"
      ]
    },
    {
      "cell_type": "markdown",
      "metadata": {
        "id": "ooWkz9j2noJQ"
      },
      "source": [
        "you might already know that machine learning models don't work with raw text, You need to convert text to numbers"
      ]
    },
    {
      "cell_type": "code",
      "execution_count": 82,
      "metadata": {
        "id": "_uJmtvBinCdL"
      },
      "outputs": [],
      "source": [
        "PRE_TRAINED_MODEL_NAME = 'bert-base-cased'"
      ]
    },
    {
      "cell_type": "markdown",
      "metadata": {
        "id": "FP-kfkAGoKkw"
      },
      "source": [
        "The Transformers library provides a wide variety of Transformer models (including BERT)"
      ]
    },
    {
      "cell_type": "code",
      "execution_count": 83,
      "metadata": {
        "id": "DlJ96Y1CoJEJ"
      },
      "outputs": [],
      "source": [
        "# Let’s load a pre-trained BertTokenizer\n",
        "tokenizer = BertTokenizer.from_pretrained(PRE_TRAINED_MODEL_NAME)\n"
      ]
    },
    {
      "cell_type": "markdown",
      "metadata": {
        "id": "PNiiFh3QoeJ4"
      },
      "source": [
        "we will use this text to understand the tokenization process"
      ]
    },
    {
      "cell_type": "code",
      "execution_count": 84,
      "metadata": {
        "id": "39ANTQsHoUKh"
      },
      "outputs": [],
      "source": [
        "sampleText = 'When was I last outside? I am stuck at home for 2 weeks.'"
      ]
    },
    {
      "cell_type": "markdown",
      "metadata": {
        "id": "vCYpMKAfpY4o"
      },
      "source": [
        "some basic operations can convert text to tokens and tokens to unique integers"
      ]
    },
    {
      "cell_type": "code",
      "execution_count": 85,
      "metadata": {
        "colab": {
          "base_uri": "https://localhost:8080/"
        },
        "id": "ePpnuiWKonWx",
        "outputId": "559a5b22-ce62-4d84-abe7-1cbfd8271ed7"
      },
      "outputs": [
        {
          "output_type": "stream",
          "name": "stdout",
          "text": [
            "the Text is When was I last outside? I am stuck at home for 2 weeks. \n",
            "\n",
            "Tokens are ['When', 'was', 'I', 'last', 'outside', '?', 'I', 'am', 'stuck', 'at', 'home', 'for', '2', 'weeks', '.'] \n",
            "\n",
            "ids are [1332, 1108, 146, 1314, 1796, 136, 146, 1821, 5342, 1120, 1313, 1111, 123, 2277, 119]\n"
          ]
        }
      ],
      "source": [
        "tokens = tokenizer.tokenize(sampleText)\n",
        "tokensIds = tokenizer.convert_tokens_to_ids(tokens)\n",
        "\n",
        "print(f\"the Text is {sampleText} \\n\")\n",
        "print(f\"Tokens are {tokens} \\n\")\n",
        "print(f\"ids are {tokensIds}\")"
      ]
    },
    {
      "cell_type": "markdown",
      "metadata": {
        "id": "osZrn_mEfLxq"
      },
      "source": [
        "### Special Tokens"
      ]
    },
    {
      "cell_type": "code",
      "execution_count": 86,
      "metadata": {
        "colab": {
          "base_uri": "https://localhost:8080/"
        },
        "id": "Uab2yxAhpwPa",
        "outputId": "ba775c71-003f-435b-ed6c-34941953d5d6"
      },
      "outputs": [
        {
          "output_type": "execute_result",
          "data": {
            "text/plain": [
              "('[SEP]', 102)"
            ]
          },
          "metadata": {},
          "execution_count": 86
        }
      ],
      "source": [
        "# [SEP] - marker for ending of a sentence\n",
        "tokenizer.sep_token , tokenizer.sep_token_id"
      ]
    },
    {
      "cell_type": "code",
      "execution_count": 87,
      "metadata": {
        "colab": {
          "base_uri": "https://localhost:8080/"
        },
        "id": "fuWCC8IPfapz",
        "outputId": "0761bc6b-d991-4625-c4bb-2ada736db481"
      },
      "outputs": [
        {
          "output_type": "execute_result",
          "data": {
            "text/plain": [
              "('[CLS]', 101)"
            ]
          },
          "metadata": {},
          "execution_count": 87
        }
      ],
      "source": [
        "# [CLS] - we must add this token to the start of each sentence, so BERT knows we’re doing classification\n",
        "tokenizer.cls_token , tokenizer.cls_token_id"
      ]
    },
    {
      "cell_type": "code",
      "execution_count": 88,
      "metadata": {
        "colab": {
          "base_uri": "https://localhost:8080/"
        },
        "id": "lRrU-Bz2gR-h",
        "outputId": "d24a3311-28f0-400f-e243-e1a7536133dd"
      },
      "outputs": [
        {
          "output_type": "execute_result",
          "data": {
            "text/plain": [
              "('[PAD]', 0)"
            ]
          },
          "metadata": {},
          "execution_count": 88
        }
      ],
      "source": [
        "# There is also a special token for padding:\n",
        "tokenizer.pad_token , tokenizer.pad_token_id"
      ]
    },
    {
      "cell_type": "code",
      "execution_count": 89,
      "metadata": {
        "colab": {
          "base_uri": "https://localhost:8080/"
        },
        "id": "Lgy3kKiBgcog",
        "outputId": "6a36168d-baef-4153-c556-dd8a9405a6ce"
      },
      "outputs": [
        {
          "output_type": "execute_result",
          "data": {
            "text/plain": [
              "('[UNK]', 100)"
            ]
          },
          "metadata": {},
          "execution_count": 89
        }
      ],
      "source": [
        "# BERT understands tokens that were in the training set. Everything else can be encoded using the [UNK] (unknown) token:\n",
        "tokenizer.unk_token , tokenizer.unk_token_id"
      ]
    },
    {
      "cell_type": "markdown",
      "metadata": {
        "id": "TxK63TrmiPAB"
      },
      "source": [
        "all of that work can vo done unsing  **encoder_plus()** "
      ]
    },
    {
      "cell_type": "code",
      "execution_count": 90,
      "metadata": {
        "colab": {
          "base_uri": "https://localhost:8080/"
        },
        "id": "AT2ZeHuagrcJ",
        "outputId": "97942b76-2a89-420b-c3ef-10f27035be16"
      },
      "outputs": [
        {
          "output_type": "stream",
          "name": "stderr",
          "text": [
            "Truncation was not explicitly activated but `max_length` is provided a specific value, please use `truncation=True` to explicitly truncate examples to max length. Defaulting to 'longest_first' truncation strategy. If you encode pairs of sequences (GLUE-style) with the tokenizer you can select this strategy more precisely by providing a specific strategy to `truncation`.\n",
            "/usr/local/lib/python3.7/dist-packages/transformers/tokenization_utils_base.py:2308: FutureWarning: The `pad_to_max_length` argument is deprecated and will be removed in a future version, use `padding=True` or `padding='longest'` to pad to the longest sequence in the batch, or use `padding='max_length'` to pad to a max length. In this case, you can give a specific length with `max_length` (e.g. `max_length=45`) or leave max_length to None to pad to the maximal input size of the model (e.g. 512 for Bert).\n",
            "  FutureWarning,\n"
          ]
        }
      ],
      "source": [
        "# `encode_plus` will:\n",
        "#   (1) Tokenize the sentence.\n",
        "#   (2) Prepend the `[CLS]` token to the start.\n",
        "#   (3) Append the `[SEP]` token to the end.\n",
        "#   (4) Map tokens to their IDs.\n",
        "#   (5) Pad or truncate the sentence to `max_length`\n",
        "#   (6) Create attention masks for [PAD] tokens.\n",
        "\n",
        "encoding = tokenizer.encode_plus(\n",
        "    sampleText,\n",
        "    max_length=32,\n",
        "    # add speical tokens [SEP] and [CLS]\n",
        "    add_special_tokens=True,\n",
        "    return_token_type_ids=False,\n",
        "    pad_to_max_length=True,\n",
        "    return_attention_mask=True,\n",
        "    return_tensors='pt',  # Return PyTorch tensors\n",
        ")"
      ]
    },
    {
      "cell_type": "code",
      "execution_count": 91,
      "metadata": {
        "colab": {
          "base_uri": "https://localhost:8080/"
        },
        "id": "LxpAEVWkk5aJ",
        "outputId": "f41baa69-dc12-43ef-c071-acb93e27fd7e"
      },
      "outputs": [
        {
          "output_type": "execute_result",
          "data": {
            "text/plain": [
              "dict_keys(['input_ids', 'attention_mask'])"
            ]
          },
          "metadata": {},
          "execution_count": 91
        }
      ],
      "source": [
        "encoding.keys()"
      ]
    },
    {
      "cell_type": "code",
      "execution_count": 92,
      "metadata": {
        "colab": {
          "base_uri": "https://localhost:8080/"
        },
        "id": "NucqX1RalCzI",
        "outputId": "4fd93948-01b2-42cf-d0d9-e06f29c6ab3c"
      },
      "outputs": [
        {
          "output_type": "execute_result",
          "data": {
            "text/plain": [
              "tensor([[ 101, 1332, 1108,  146, 1314, 1796,  136,  146, 1821, 5342, 1120, 1313,\n",
              "         1111,  123, 2277,  119,  102,    0,    0,    0,    0,    0,    0,    0,\n",
              "            0,    0,    0,    0,    0,    0,    0,    0]])"
            ]
          },
          "metadata": {},
          "execution_count": 92
        }
      ],
      "source": [
        "encoding['input_ids']"
      ]
    },
    {
      "cell_type": "code",
      "execution_count": 93,
      "metadata": {
        "colab": {
          "base_uri": "https://localhost:8080/"
        },
        "id": "4lmpEzONlpUp",
        "outputId": "7b53d48c-986f-4c62-9646-3ebf82170a1f"
      },
      "outputs": [
        {
          "output_type": "execute_result",
          "data": {
            "text/plain": [
              "tensor([[1, 1, 1, 1, 1, 1, 1, 1, 1, 1, 1, 1, 1, 1, 1, 1, 1, 0, 0, 0, 0, 0, 0, 0,\n",
              "         0, 0, 0, 0, 0, 0, 0, 0]])"
            ]
          },
          "metadata": {},
          "execution_count": 93
        }
      ],
      "source": [
        "encoding['attention_mask']"
      ]
    },
    {
      "cell_type": "code",
      "execution_count": 94,
      "metadata": {
        "colab": {
          "base_uri": "https://localhost:8080/"
        },
        "id": "hQnE-aXKlruZ",
        "outputId": "e1e92f33-4701-49ad-c2f1-ae7bb8ef490e"
      },
      "outputs": [
        {
          "output_type": "stream",
          "name": "stdout",
          "text": [
            "32\n"
          ]
        }
      ],
      "source": [
        "print(len(encoding['input_ids'][0]))"
      ]
    },
    {
      "cell_type": "code",
      "execution_count": 95,
      "metadata": {
        "colab": {
          "base_uri": "https://localhost:8080/"
        },
        "id": "whnvuT8WlwyQ",
        "outputId": "7b1f7717-ef90-42e7-a611-28bb60e777de"
      },
      "outputs": [
        {
          "output_type": "execute_result",
          "data": {
            "text/plain": [
              "['[CLS]',\n",
              " 'When',\n",
              " 'was',\n",
              " 'I',\n",
              " 'last',\n",
              " 'outside',\n",
              " '?',\n",
              " 'I',\n",
              " 'am',\n",
              " 'stuck',\n",
              " 'at',\n",
              " 'home',\n",
              " 'for',\n",
              " '2',\n",
              " 'weeks',\n",
              " '.',\n",
              " '[SEP]',\n",
              " '[PAD]',\n",
              " '[PAD]',\n",
              " '[PAD]',\n",
              " '[PAD]',\n",
              " '[PAD]',\n",
              " '[PAD]',\n",
              " '[PAD]',\n",
              " '[PAD]',\n",
              " '[PAD]',\n",
              " '[PAD]',\n",
              " '[PAD]',\n",
              " '[PAD]',\n",
              " '[PAD]',\n",
              " '[PAD]',\n",
              " '[PAD]']"
            ]
          },
          "metadata": {},
          "execution_count": 95
        }
      ],
      "source": [
        "tokenizer.convert_ids_to_tokens(encoding['input_ids'][0])"
      ]
    },
    {
      "cell_type": "markdown",
      "metadata": {
        "id": "zf9ciGnYmYMQ"
      },
      "source": [
        "### Choosing Sequence Length"
      ]
    },
    {
      "cell_type": "markdown",
      "metadata": {
        "id": "FTbS7HWGmaUP"
      },
      "source": [
        "BERT works with fixed-length sequences. We’ll use a simple strategy to choose the max length. Let’s store the token length of each review:\n"
      ]
    },
    {
      "cell_type": "code",
      "execution_count": 96,
      "metadata": {
        "id": "hBUYGqLdmIC5"
      },
      "outputs": [],
      "source": [
        "tokensLen = []\n",
        "for txt in data.content:\n",
        "  tokens = tokenizer.encode(txt,max_length=512)\n",
        "  tokensLen.append(len(tokens))"
      ]
    },
    {
      "cell_type": "code",
      "execution_count": 97,
      "metadata": {
        "colab": {
          "base_uri": "https://localhost:8080/",
          "height": 395
        },
        "id": "e98VyPClmw3E",
        "outputId": "1246a5ff-91fb-40cc-858d-0fa69bcec0fb"
      },
      "outputs": [
        {
          "output_type": "execute_result",
          "data": {
            "text/plain": [
              "Text(0.5, 11.552000000000007, 'Token count')"
            ]
          },
          "metadata": {},
          "execution_count": 97
        },
        {
          "output_type": "display_data",
          "data": {
            "text/plain": [
              "<Figure size 360x360 with 1 Axes>"
            ],
            "image/png": "[encoded data removed]"
          },
          "metadata": {
            "image/png": {
              "width": 343,
              "height": 361
            }
          }
        }
      ],
      "source": [
        "sns.displot(tokensLen)\n",
        "plt.xlabel('Token count')"
      ]
    },
    {
      "cell_type": "markdown",
      "metadata": {
        "id": "xYPreE7FpjUY"
      },
      "source": [
        "Most of the reviews seem to contain less than 128 tokens, but we’ll be on the safe side and choose a maximum length of 160.\n"
      ]
    },
    {
      "cell_type": "code",
      "execution_count": 98,
      "metadata": {
        "id": "vFRVM7dxnkfB"
      },
      "outputs": [],
      "source": [
        "maxLen = 160"
      ]
    },
    {
      "cell_type": "code",
      "execution_count": 99,
      "metadata": {
        "id": "YJn7p9fDpQgg"
      },
      "outputs": [],
      "source": [
        "class ReviewDataSet(Dataset):\n",
        "\n",
        "  def __init__(self,reviews,targets , maxLen , tokenizer):\n",
        "\n",
        "    self.reviews = reviews\n",
        "    self.targets = targets\n",
        "    self.maxLen = maxLen\n",
        "    self.tokenizer = tokenizer\n",
        "  \n",
        "  def __len__(self):\n",
        "    return len(self.reviews)\n",
        "\n",
        "  def __getitem__(self,item):\n",
        "    review = str(self.reviews[item])\n",
        "    target = self.targets[item]\n",
        "\n",
        "    encoding = self.tokenizer.encode_plus(\n",
        "        review,\n",
        "        add_special_tokens = True,\n",
        "        max_length=self.maxLen,\n",
        "        return_token_type_ids=False,\n",
        "        padding='max_length',\n",
        "        truncation=True,\n",
        "        return_attention_mask=True,\n",
        "        return_tensors='pt',    \n",
        "    )\n",
        "\n",
        "    return {\n",
        "        \"review\" : review,\n",
        "        \"input_ids\" : encoding['input_ids'].flatten(),\n",
        "        'attention_mask': encoding['attention_mask'].flatten(),\n",
        "        'targets': torch.tensor(target, dtype=torch.long)\n",
        "    }"
      ]
    },
    {
      "cell_type": "markdown",
      "source": [
        "Split our data into train , test , validation"
      ],
      "metadata": {
        "id": "iw5VPtQoqwy8"
      }
    },
    {
      "cell_type": "code",
      "execution_count": 100,
      "metadata": {
        "id": "9qeq-J__SZoC"
      },
      "outputs": [],
      "source": [
        "dfTrain , dfTest = train_test_split(data , test_size=0.1 ,\n",
        "                                    random_state=42 )\n",
        "\n",
        "dfVal , dfTest = train_test_split(dfTest , test_size=0.5 ,\n",
        "                                    random_state=42)"
      ]
    },
    {
      "cell_type": "code",
      "source": [
        "print(f'Training Set shape is {dfTrain.shape}')\n",
        "print(f'validation Set shape is {dfVal.shape}')\n",
        "print(f'testing Set shape is {dfTest.shape}')"
      ],
      "metadata": {
        "colab": {
          "base_uri": "https://localhost:8080/"
        },
        "id": "jqVb8-Kb0E-W",
        "outputId": "9c8b501a-eb6d-4a13-e911-9ea8084b8dcf"
      },
      "execution_count": 182,
      "outputs": [
        {
          "output_type": "stream",
          "name": "stdout",
          "text": [
            "Training Set shape is (14171, 12)\n",
            "validation Set shape is (787, 12)\n",
            "testing Set shape is (788, 12)\n"
          ]
        }
      ]
    },
    {
      "cell_type": "markdown",
      "source": [
        "build a function to create a Dataloader for each dataset"
      ],
      "metadata": {
        "id": "Q2TKRl8Kq7G7"
      }
    },
    {
      "cell_type": "code",
      "execution_count": 101,
      "metadata": {
        "id": "afLodmG1URQC"
      },
      "outputs": [],
      "source": [
        "def CreateDataLoader( data , maxLen , tokenizer,batchSize):\n",
        "\n",
        "  df = ReviewDataSet(\n",
        "      reviews = data['content'].to_numpy(),\n",
        "      targets = data['sentiment'].to_numpy(),\n",
        "      maxLen = maxLen,\n",
        "      tokenizer = tokenizer\n",
        "  )\n",
        "\n",
        "  return DataLoader(\n",
        "      df , \n",
        "      batchSize,\n",
        "      num_workers=2\n",
        "  )"
      ]
    },
    {
      "cell_type": "markdown",
      "metadata": {
        "id": "GxTOBRO3WWzJ"
      },
      "source": [
        "We also need to create a couple of data loaders. Here’s a helper function to do it:\n",
        "\n"
      ]
    },
    {
      "cell_type": "code",
      "execution_count": 102,
      "metadata": {
        "id": "qX73or6zUxS0"
      },
      "outputs": [],
      "source": [
        "batchSize = 16\n",
        "trainLoader = CreateDataLoader(dfTrain,maxLen,tokenizer,batchSize)\n",
        "testLoader = CreateDataLoader(dfTest,maxLen,tokenizer,batchSize)\n",
        "valLoader = CreateDataLoader(dfVal,maxLen,tokenizer,batchSize)"
      ]
    },
    {
      "cell_type": "markdown",
      "metadata": {
        "id": "rR1pF_veWYIg"
      },
      "source": [
        "let's look at an batch from our training set"
      ]
    },
    {
      "cell_type": "code",
      "execution_count": 103,
      "metadata": {
        "colab": {
          "base_uri": "https://localhost:8080/"
        },
        "id": "9u-ezVveUx8Z",
        "outputId": "2124412f-23dd-4035-a867-6823cbac5539"
      },
      "outputs": [
        {
          "output_type": "stream",
          "name": "stdout",
          "text": [
            "dict_keys(['review', 'input_ids', 'attention_mask', 'targets'])\n"
          ]
        }
      ],
      "source": [
        "data = next(iter(trainLoader))\n",
        "print(data.keys())"
      ]
    },
    {
      "cell_type": "code",
      "execution_count": 104,
      "metadata": {
        "colab": {
          "base_uri": "https://localhost:8080/"
        },
        "id": "zIi6aRSVWmZZ",
        "outputId": "5fb9aa30-88a1-4643-bf14-0cd836d0ff1c"
      },
      "outputs": [
        {
          "output_type": "stream",
          "name": "stdout",
          "text": [
            "torch.Size([16, 160])\n",
            "torch.Size([16, 160])\n",
            "torch.Size([16])\n"
          ]
        }
      ],
      "source": [
        "print(data['input_ids'].shape)\n",
        "print(data['attention_mask'].shape)\n",
        "print(data['targets'].shape)\n"
      ]
    },
    {
      "cell_type": "markdown",
      "source": [
        "We’ll use the basic BertModel and build our sentiment classifier on top of it. Let’s load the model:"
      ],
      "metadata": {
        "id": "Gmp_CCynrOrM"
      }
    },
    {
      "cell_type": "code",
      "execution_count": 105,
      "metadata": {
        "colab": {
          "base_uri": "https://localhost:8080/"
        },
        "id": "0KHlvD_GXDDx",
        "outputId": "ad27ca1a-856b-4c05-ff6d-eb66b9a6d9bc"
      },
      "outputs": [
        {
          "output_type": "stream",
          "name": "stderr",
          "text": [
            "Some weights of the model checkpoint at bert-base-cased were not used when initializing BertModel: ['cls.predictions.transform.LayerNorm.weight', 'cls.predictions.bias', 'cls.predictions.transform.LayerNorm.bias', 'cls.seq_relationship.bias', 'cls.predictions.transform.dense.weight', 'cls.predictions.decoder.weight', 'cls.predictions.transform.dense.bias', 'cls.seq_relationship.weight']\n",
            "- This IS expected if you are initializing BertModel from the checkpoint of a model trained on another task or with another architecture (e.g. initializing a BertForSequenceClassification model from a BertForPreTraining model).\n",
            "- This IS NOT expected if you are initializing BertModel from the checkpoint of a model that you expect to be exactly identical (initializing a BertForSequenceClassification model from a BertForSequenceClassification model).\n"
          ]
        }
      ],
      "source": [
        "bert_model = BertModel.from_pretrained(PRE_TRAINED_MODEL_NAME)"
      ]
    },
    {
      "cell_type": "markdown",
      "metadata": {
        "id": "GjOivXUq1Clh"
      },
      "source": [
        " `last_hidden_state` is a sequence of hidden state of last layer of the model\n"
      ]
    },
    {
      "cell_type": "code",
      "execution_count": 106,
      "metadata": {
        "id": "wzp8I3Xw0pEf"
      },
      "outputs": [],
      "source": [
        "out = bert_model(\n",
        "    encoding['input_ids'],\n",
        "    encoding['attention_mask']\n",
        ")"
      ]
    },
    {
      "cell_type": "code",
      "execution_count": 107,
      "metadata": {
        "colab": {
          "base_uri": "https://localhost:8080/"
        },
        "id": "vegjGVpE9iuR",
        "outputId": "9421b7e4-7a67-42c5-e2be-9124bde7ff4a"
      },
      "outputs": [
        {
          "output_type": "execute_result",
          "data": {
            "text/plain": [
              "torch.Size([1, 32, 768])"
            ]
          },
          "metadata": {},
          "execution_count": 107
        }
      ],
      "source": [
        "out[0].shape"
      ]
    },
    {
      "cell_type": "markdown",
      "metadata": {
        "id": "gFMsavtJ9qNy"
      },
      "source": [
        "`last hidden state` shape is 1 > batch size , 32 sequence length , 768 number of hidden units"
      ]
    },
    {
      "cell_type": "code",
      "execution_count": 108,
      "metadata": {
        "colab": {
          "base_uri": "https://localhost:8080/"
        },
        "id": "-GIsE4Yj1sEy",
        "outputId": "80a915e7-9d46-4a65-fbad-0fe59b518892"
      },
      "outputs": [
        {
          "output_type": "execute_result",
          "data": {
            "text/plain": [
              "torch.Size([1, 32, 768])"
            ]
          },
          "metadata": {},
          "execution_count": 108
        }
      ],
      "source": [
        "out['last_hidden_state'].shape"
      ]
    },
    {
      "cell_type": "markdown",
      "metadata": {
        "id": "8wz5rlyX9Lkd"
      },
      "source": [
        "`pooler_output` , this layer transform the output from [batch size , sequence length , hidden size ] to [batch size , hidden size ] "
      ]
    },
    {
      "cell_type": "code",
      "execution_count": 109,
      "metadata": {
        "colab": {
          "base_uri": "https://localhost:8080/"
        },
        "id": "xWOCAy232Eg1",
        "outputId": "0d195202-3605-46fb-be8f-c2d1d2f5a37e"
      },
      "outputs": [
        {
          "output_type": "execute_result",
          "data": {
            "text/plain": [
              "torch.Size([1, 768])"
            ]
          },
          "metadata": {},
          "execution_count": 109
        }
      ],
      "source": [
        "out['pooler_output'].shape"
      ]
    },
    {
      "cell_type": "code",
      "execution_count": 110,
      "metadata": {
        "colab": {
          "base_uri": "https://localhost:8080/"
        },
        "id": "iWqHAleM2Whj",
        "outputId": "46d05a92-6603-4952-ca34-9aa38792a528"
      },
      "outputs": [
        {
          "output_type": "execute_result",
          "data": {
            "text/plain": [
              "768"
            ]
          },
          "metadata": {},
          "execution_count": 110
        }
      ],
      "source": [
        "bert_model.config.hidden_size"
      ]
    },
    {
      "cell_type": "markdown",
      "source": [
        "Create a Classifier that uses bert model"
      ],
      "metadata": {
        "id": "s7wQ6Q8HrqVE"
      }
    },
    {
      "cell_type": "code",
      "execution_count": 111,
      "metadata": {
        "id": "4pXhndjY-EAq"
      },
      "outputs": [],
      "source": [
        "class BertClassifier(nn.Module):\n",
        "\n",
        "  def __init__(self,num_classer):\n",
        "    super(BertClassifier,self).__init__()\n",
        "\n",
        "    self.bert = BertModel.from_pretrained(PRE_TRAINED_MODEL_NAME)\n",
        "\n",
        "    self.dropout = nn.Dropout(p=0.3)\n",
        "\n",
        "    self.linear = nn.Linear(self.bert.config.hidden_size,num_classer)\n",
        "\n",
        "  def forward(self,input_ids, attention_mask):\n",
        "\n",
        "    output = self.bert(input_ids,\n",
        "                                  attention_mask)\n",
        "    out = self.dropout(output['pooler_output'])\n",
        "    out = self.linear(out)\n",
        "\n",
        "    return out"
      ]
    },
    {
      "cell_type": "markdown",
      "source": [
        "This should work like any other PyTorch model. Let’s create an instance and move it to the GPU\n"
      ],
      "metadata": {
        "id": "1-nGgdoxrzT1"
      }
    },
    {
      "cell_type": "code",
      "execution_count": 112,
      "metadata": {
        "colab": {
          "base_uri": "https://localhost:8080/"
        },
        "id": "_rOYyx9U_ais",
        "outputId": "32dd9d91-8368-4aa2-8ed2-2d033f9e6e99"
      },
      "outputs": [
        {
          "output_type": "stream",
          "name": "stderr",
          "text": [
            "Some weights of the model checkpoint at bert-base-cased were not used when initializing BertModel: ['cls.predictions.transform.LayerNorm.weight', 'cls.predictions.bias', 'cls.predictions.transform.LayerNorm.bias', 'cls.seq_relationship.bias', 'cls.predictions.transform.dense.weight', 'cls.predictions.decoder.weight', 'cls.predictions.transform.dense.bias', 'cls.seq_relationship.weight']\n",
            "- This IS expected if you are initializing BertModel from the checkpoint of a model trained on another task or with another architecture (e.g. initializing a BertForSequenceClassification model from a BertForPreTraining model).\n",
            "- This IS NOT expected if you are initializing BertModel from the checkpoint of a model that you expect to be exactly identical (initializing a BertForSequenceClassification model from a BertForSequenceClassification model).\n"
          ]
        }
      ],
      "source": [
        "model = BertClassifier(len(classNames))\n",
        "model = model.to(device)"
      ]
    },
    {
      "cell_type": "code",
      "execution_count": 113,
      "metadata": {
        "colab": {
          "base_uri": "https://localhost:8080/"
        },
        "id": "FhAqMYnGAl-z",
        "outputId": "b3f5e547-6a35-47c5-f212-977986b5a5db"
      },
      "outputs": [
        {
          "output_type": "stream",
          "name": "stdout",
          "text": [
            "torch.Size([16, 160])\n",
            "torch.Size([16, 160])\n"
          ]
        }
      ],
      "source": [
        "input_ids = data['input_ids'].to(device)\n",
        "attention_mask = data['attention_mask'].to(device)\n",
        "\n",
        "print(input_ids.shape) # batch size x seq length\n",
        "print(attention_mask.shape) # batch size x seq length"
      ]
    },
    {
      "cell_type": "markdown",
      "metadata": {
        "id": "NWnKcHrODHLj"
      },
      "source": [
        "### to get predicted probalilties from our trained model , we will apply softmax function to the outputs "
      ]
    },
    {
      "cell_type": "code",
      "execution_count": 114,
      "metadata": {
        "colab": {
          "base_uri": "https://localhost:8080/"
        },
        "id": "QOQamHUiCQgW",
        "outputId": "8285a519-68dc-405b-f28c-435df090509c"
      },
      "outputs": [
        {
          "output_type": "execute_result",
          "data": {
            "text/plain": [
              "tensor([[0.2332, 0.4717, 0.2951],\n",
              "        [0.2219, 0.3612, 0.4168],\n",
              "        [0.3589, 0.2427, 0.3984],\n",
              "        [0.2221, 0.3218, 0.4561],\n",
              "        [0.5762, 0.2056, 0.2181],\n",
              "        [0.2249, 0.4422, 0.3329],\n",
              "        [0.2750, 0.3181, 0.4069],\n",
              "        [0.3732, 0.2454, 0.3813],\n",
              "        [0.3927, 0.1892, 0.4181],\n",
              "        [0.3349, 0.1948, 0.4703],\n",
              "        [0.3043, 0.2263, 0.4695],\n",
              "        [0.3710, 0.1894, 0.4396],\n",
              "        [0.2090, 0.4449, 0.3462],\n",
              "        [0.3396, 0.2594, 0.4010],\n",
              "        [0.3456, 0.2260, 0.4284],\n",
              "        [0.1500, 0.3302, 0.5198]], device='cuda:0', grad_fn=<SoftmaxBackward0>)"
            ]
          },
          "metadata": {},
          "execution_count": 114
        }
      ],
      "source": [
        "F.softmax(model(input_ids, attention_mask),\n",
        "              dim = 1)"
      ]
    },
    {
      "cell_type": "markdown",
      "metadata": {
        "id": "2j9Hav6NJrD2"
      },
      "source": [
        "# Training "
      ]
    },
    {
      "cell_type": "markdown",
      "source": [
        "we’ll use the `AdamW` optimizer provided by Hugging Face. It corrects weight decay, so it’s similar to the original paper. We’ll also use a `linear scheduler with no warmup steps` :\n"
      ],
      "metadata": {
        "id": "eneE7MAbr_5j"
      }
    },
    {
      "cell_type": "code",
      "execution_count": 116,
      "metadata": {
        "colab": {
          "base_uri": "https://localhost:8080/"
        },
        "id": "fEBpyY3xEFCT",
        "outputId": "2ead3afc-ac2e-4b3b-c912-1d6bd092f97f"
      },
      "outputs": [
        {
          "output_type": "stream",
          "name": "stdout",
          "text": [
            "total steps is 8860\n"
          ]
        },
        {
          "output_type": "stream",
          "name": "stderr",
          "text": [
            "/usr/local/lib/python3.7/dist-packages/transformers/optimization.py:310: FutureWarning: This implementation of AdamW is deprecated and will be removed in a future version. Use the PyTorch implementation torch.optim.AdamW instead, or set `no_deprecation_warning=True` to disable this warning\n",
            "  FutureWarning,\n"
          ]
        }
      ],
      "source": [
        "num_epochs = 10\n",
        "optimizer = AdamW(model.parameters(), lr=2e-5, correct_bias=False)\n",
        "lossFn = nn.CrossEntropyLoss().to(device)\n",
        "\n",
        "total_steps = len(trainLoader) * num_epochs\n",
        "print(f\"total steps is {total_steps}\")\n",
        "\n",
        "\n",
        "# Create a schedule with a learning rate that decreases following the values of the cosine function between the initial lr set in the optimizer to 0,\n",
        "# after a warmup period during which it increases linearly between 0 and the initial lr set in the optimizer.\n",
        "\n",
        "scheduler = get_linear_schedule_with_warmup(\n",
        "    optimizer,\n",
        "    num_warmup_steps=0,\n",
        "      num_training_steps=total_steps\n",
        ")"
      ]
    },
    {
      "cell_type": "markdown",
      "metadata": {
        "id": "Dokv27OQDxvZ"
      },
      "source": [
        "How do we come up with all hyperparameters? The BERT authors have some recommendations for fine-tuning:\n",
        "\n",
        "Batch size: 16, 32\n",
        "Learning rate (Adam): 5e-5, 3e-5, 2e-5\n",
        "Number of epochs: 2, 3, 4"
      ]
    },
    {
      "cell_type": "code",
      "execution_count": 154,
      "metadata": {
        "id": "W5xJeiYC-xmf"
      },
      "outputs": [],
      "source": [
        "def train_epoch(\n",
        "    model ,\n",
        "    data_loader,\n",
        "    lossFn,\n",
        "    optimizer,\n",
        "    device,\n",
        "    scheduler,\n",
        "    num_examples):\n",
        "  \n",
        "  # out the model into training mode\n",
        "  model = model.train()\n",
        "\n",
        "  losses = []\n",
        "  train_accuracy = []\n",
        "\n",
        "  # for each batch of training data\n",
        "  for d in data_loader:\n",
        "\n",
        "      # Zero out any previously calculated gradients\n",
        "    #model.zero_grad()\n",
        "\n",
        "\n",
        "    # forward \n",
        "    #print(d)\n",
        "    input_ids = d['input_ids'].to(device)\n",
        "    attention_mask = d['attention_mask'].to(device)\n",
        "    target = d['targets'].to(device)\n",
        "\n",
        "    # preform a forward pass\n",
        "    model_out = model(\n",
        "        input_ids,\n",
        "        attention_mask\n",
        "    )\n",
        "\n",
        "    _,y_pred = torch.max(model_out, dim=1)\n",
        "\n",
        "    \n",
        "    # compute the loos\n",
        "    loss = lossFn(model_out,target)\n",
        "\n",
        "    #compute the accuracy\n",
        "    accuracy = (y_pred == target).cpu().numpy().mean() * 100\n",
        "\n",
        "    # compute accumulate accuracy\n",
        "    train_accuracy.append(accuracy)\n",
        "    # compute accumulate loss\n",
        "    losses.append(loss.item())\n",
        "\n",
        "\n",
        "\n",
        "    # perform a backward pass to compute the gradients\n",
        "    loss.backward()\n",
        "\n",
        "    # Clip the norm of the gradients to 1.0 to prevent \"exploding gradients\"\n",
        "    nn.utils.clip_grad_norm_(model.parameters(), max_norm=1.0)\n",
        "\n",
        "    # Update parameters and the learning rate\n",
        "    optimizer.step()\n",
        "    scheduler.step()\n",
        "\n",
        "    # Zero out any previously calculated gradients\n",
        "    optimizer.zero_grad()\n",
        "\n",
        "  # Compute the average accuracy and loss over the training set.\n",
        "  return np.mean(train_accuracy), np.mean(losses)"
      ]
    },
    {
      "cell_type": "code",
      "source": [
        "l1 = torch.tensor([1,2,3])\n",
        "l2 = torch.tensor([1,3,3])\n",
        "torch.sum(l1==l2)"
      ],
      "metadata": {
        "colab": {
          "base_uri": "https://localhost:8080/"
        },
        "id": "XxQdF9M1TScG",
        "outputId": "10aa2b0d-06c6-4ae5-8c79-97b9ce7b8d37"
      },
      "execution_count": 156,
      "outputs": [
        {
          "output_type": "execute_result",
          "data": {
            "text/plain": [
              "tensor(2)"
            ]
          },
          "metadata": {},
          "execution_count": 156
        }
      ]
    },
    {
      "cell_type": "code",
      "execution_count": 157,
      "metadata": {
        "id": "IpZ7HenQHT4n"
      },
      "outputs": [],
      "source": [
        "def eval_model(\n",
        "    model,\n",
        "    data_loader,\n",
        "    loss_fn,\n",
        "    device,\n",
        "    num_examples\n",
        "          ):\n",
        "  \n",
        "  # put the model into evaluation mode\n",
        "  #The dropout layers are disabled during the test time.\n",
        "  model = model.eval()\n",
        "\n",
        "  # tracking variables\n",
        "  losses = []\n",
        "  val_accuracy = []\n",
        "\n",
        "  with torch.no_grad():\n",
        "    # For each batch in our validation set...\n",
        "    for d in data_loader:\n",
        "      input_ids = d['input_ids'].to(device)\n",
        "      attention_mask = d['attention_mask'].to(device)\n",
        "      target = d['targets'].to(device)\n",
        "\n",
        "      # preform forward pass\n",
        "      model_output = model(input_ids=input_ids,\n",
        "        attention_mask=attention_mask )\n",
        "      # Get the predictions\n",
        "      _ , predction = torch.max(model_output,dim=1)\n",
        "\n",
        "       # Compute loss\n",
        "      loss = loss_fn(model_output,target)\n",
        "\n",
        "      accuracy = (predction == target).cpu().numpy().mean() * 100\n",
        "\n",
        "      val_accuracy.append(accuracy)\n",
        "\n",
        "      losses.append(loss.item())\n",
        "    # Compute the average accuracy and loss over the validation set.\n",
        "    return np.mean(val_accuracy), np.mean(losses)\n"
      ]
    },
    {
      "cell_type": "code",
      "execution_count": 158,
      "metadata": {
        "colab": {
          "base_uri": "https://localhost:8080/"
        },
        "id": "GXmc1kKgFG32",
        "outputId": "69b75114-03e8-4e08-b4b2-d6febd70c531"
      },
      "outputs": [
        {
          "output_type": "stream",
          "name": "stdout",
          "text": [
            "Epoch 1/10\n",
            "----------\n",
            "Train loss 0.7363976171202369 accuracy 66.82485122101374\n",
            "Val   loss 0.5958692875504493 accuracy 75.29166666666667\n",
            "Epoch 2/10\n",
            "----------\n",
            "Train loss 0.46876072741489916 accuracy 82.49217627744716\n",
            "Val   loss 0.5582373827695847 accuracy 80.79166666666667\n",
            "Epoch 3/10\n",
            "----------\n",
            "Train loss 0.2823740720778334 accuracy 90.93602503591217\n",
            "Val   loss 0.5566778092458844 accuracy 84.29166666666666\n",
            "Epoch 4/10\n",
            "----------\n",
            "Train loss 0.19169866845918856 accuracy 94.73053047404063\n",
            "Val   loss 0.6051110040582717 accuracy 86.41666666666666\n",
            "Epoch 5/10\n",
            "----------\n",
            "Train loss 0.14566811644217276 accuracy 96.1804843012518\n",
            "Val   loss 0.7657489902968518 accuracy 85.29166666666666\n",
            "Epoch 6/10\n",
            "----------\n",
            "Train loss 0.10708268697732407 accuracy 97.18217730350914\n",
            "Val   loss 0.693839955998119 accuracy 86.79166666666666\n",
            "Epoch 7/10\n",
            "----------\n",
            "Train loss 0.08316548488338181 accuracy 97.8273137697517\n",
            "Val   loss 0.7644381563807837 accuracy 87.66666666666666\n",
            "Epoch 8/10\n",
            "----------\n",
            "Train loss 0.06443531696812636 accuracy 98.1485994254053\n",
            "Val   loss 0.7957698557164986 accuracy 87.54166666666666\n",
            "Epoch 9/10\n",
            "----------\n",
            "Train loss 0.044611352565077485 accuracy 98.57890416581161\n",
            "Val   loss 0.8567672329119523 accuracy 86.79166666666666\n",
            "Epoch 10/10\n",
            "----------\n",
            "Train loss 0.03922727876805341 accuracy 98.66355427867843\n",
            "Val   loss 0.7844244312375668 accuracy 87.66666666666666\n",
            "CPU times: user 44min 2s, sys: 19min 57s, total: 1h 4min\n",
            "Wall time: 1h 4min 16s\n"
          ]
        }
      ],
      "source": [
        "%%time\n",
        "\n",
        "history = defaultdict(list)\n",
        "best_accuracy = 0\n",
        "\n",
        "# start training loop\n",
        "for epoch in range(num_epochs):\n",
        "\n",
        "  print(f'Epoch {epoch + 1}/{num_epochs}')\n",
        "  print('-' * 10)\n",
        "\n",
        "\n",
        "  train_accuracy , train_loss = train_epoch(model=model , data_loader =trainLoader , \n",
        "                                            lossFn=lossFn,optimizer=optimizer,\n",
        "                                            device =device, scheduler=scheduler,\n",
        "                                            num_examples=len(dfTrain))\n",
        "  \n",
        "  print(f'Train loss {train_loss} accuracy {train_accuracy}')\n",
        "\n",
        "  val_accuracy  , val_loss = eval_model(model = model, data_loader = valLoader,\n",
        "                                        loss_fn = lossFn,device = device,num_examples = len(dfVal))\n",
        "  \n",
        "  print(f'Val   loss {val_loss} accuracy {val_accuracy}')\n",
        "\n",
        "  history['train_accuracy'].append(train_accuracy)\n",
        "  history['train_loss'].append(train_loss)\n",
        "  history['val_accuracy'].append(val_accuracy)\n",
        "  history['val_loss'].append(val_loss)\n",
        "\n",
        "  if val_accuracy > best_accuracy:\n",
        "    torch.save(model.state_dict(), 'best_model_state.bin')\n",
        "    best_accuracy = val_accuracy"
      ]
    },
    {
      "cell_type": "markdown",
      "source": [
        "Note that we’re storing the state of the best model, indicated by the highest validation accuracy.\n",
        "\n",
        "look at the training vs validation accuracy:\n"
      ],
      "metadata": {
        "id": "CZEPLM1KuLLF"
      }
    },
    {
      "cell_type": "code",
      "execution_count": 165,
      "metadata": {
        "colab": {
          "base_uri": "https://localhost:8080/",
          "height": 523
        },
        "id": "iE4MXxwDGmX9",
        "outputId": "543dc62d-6752-4bb9-c611-e9122fe112c9"
      },
      "outputs": [
        {
          "output_type": "display_data",
          "data": {
            "text/plain": [
              "<Figure size 864x576 with 1 Axes>"
            ],
            "image/png": "[encoded data removed]"
          },
          "metadata": {
            "image/png": {
              "width": 736,
              "height": 506
            }
          }
        }
      ],
      "source": [
        "plt.plot(history['train_accuracy'], label='train accuracy')\n",
        "plt.plot(history['val_accuracy'], label='validation accuracy')\n",
        "plt.title('Training history')\n",
        "plt.ylabel('Accuracy')\n",
        "plt.xlabel('Epoch')\n",
        "plt.legend()\n",
        "plt.show()"
      ]
    },
    {
      "cell_type": "markdown",
      "source": [
        "So how good is our model on predicting sentiment? Let’s start by calculating the accuracy on the test data:\n"
      ],
      "metadata": {
        "id": "GZoAXcv5uUU0"
      }
    },
    {
      "cell_type": "code",
      "execution_count": 160,
      "metadata": {
        "colab": {
          "base_uri": "https://localhost:8080/"
        },
        "id": "mxOeU6sCOFex",
        "outputId": "4bca6af3-af47-4548-b544-206f52e06332"
      },
      "outputs": [
        {
          "output_type": "execute_result",
          "data": {
            "text/plain": [
              "89.125"
            ]
          },
          "metadata": {},
          "execution_count": 160
        }
      ],
      "source": [
        "test_acc, _ = eval_model(\n",
        "  model,\n",
        "  testLoader,\n",
        "  lossFn,\n",
        "  device,\n",
        "  len(dfTest)\n",
        ")"
      ]
    },
    {
      "cell_type": "code",
      "source": [
        "print(f'Model Accuracy on the test set is {test_acc.item()}')"
      ],
      "metadata": {
        "colab": {
          "base_uri": "https://localhost:8080/"
        },
        "id": "4ADWgDyDt4Ut",
        "outputId": "fe9cdf67-d36a-499f-927a-b9ea6285530a"
      },
      "execution_count": 172,
      "outputs": [
        {
          "output_type": "stream",
          "name": "stdout",
          "text": [
            "Model Accuracy on the test set is 89.125\n"
          ]
        }
      ]
    },
    {
      "cell_type": "markdown",
      "source": [
        "### We’ll define a helper function to get the predictions from our model:\n",
        "\n"
      ],
      "metadata": {
        "id": "lpC481pEubdk"
      }
    },
    {
      "cell_type": "code",
      "source": [
        "def get_predictions(model,data_loader):\n",
        "\n",
        "  # put model into evaluation mode\n",
        "  model = model.eval()\n",
        "\n",
        "  review_texts = []\n",
        "  predictions = []\n",
        "  prediction_probs = []\n",
        "  real_values = []\n",
        "\n",
        "\n",
        "  with torch.no_grad():\n",
        "\n",
        "    for d in data_loader:\n",
        "\n",
        "      texts = d['review']\n",
        "      input_ids = d['input_ids'].to(device)\n",
        "      attention_mask = d['attention_mask'].to(device)\n",
        "      targets = d['targets'].to(device)\n",
        "\n",
        "      # preform forward pass\n",
        "\n",
        "      model_output = model(\n",
        "          input_ids,attention_mask\n",
        "      )\n",
        "\n",
        "\n",
        "      # get predictions \n",
        "      _, preds = torch.max(model_output,dim=1)\n",
        "\n",
        "      # \n",
        "      review_texts.extend(texts)\n",
        "      predictions.extend(preds)\n",
        "      prediction_probs.extend(model_output)\n",
        "      real_values.extend(targets)\n",
        "\n",
        "      # 'stack' Concatenates a sequence of tensors along a new dimension.\n",
        "\n",
        "    predictions = torch.stack(predictions).cpu()\n",
        "    prediction_probs = torch.stack(prediction_probs).cpu()\n",
        "    real_values = torch.stack(real_values).cpu()\n",
        "    \n",
        "    return review_texts , predictions , prediction_probs , real_values"
      ],
      "metadata": {
        "id": "kqg5IhLkuFBu"
      },
      "execution_count": 184,
      "outputs": []
    },
    {
      "cell_type": "code",
      "source": [
        "review_texts, pred, pred_probs, y_test = get_predictions(\n",
        "  model,\n",
        "  testLoader\n",
        ")"
      ],
      "metadata": {
        "id": "p_JesK9vzc1c"
      },
      "execution_count": 185,
      "outputs": []
    },
    {
      "cell_type": "markdown",
      "source": [
        "let's have a look at the classification report"
      ],
      "metadata": {
        "id": "IYnMXzEG08os"
      }
    },
    {
      "cell_type": "code",
      "source": [
        "print(classification_report(y_test, pred, target_names=classNames))"
      ],
      "metadata": {
        "colab": {
          "base_uri": "https://localhost:8080/"
        },
        "id": "TNlbSrK_zit8",
        "outputId": "c571e7de-0d1a-4d6d-ce9a-419484d86ae3"
      },
      "execution_count": 186,
      "outputs": [
        {
          "output_type": "stream",
          "name": "stdout",
          "text": [
            "              precision    recall  f1-score   support\n",
            "\n",
            "    Negative       0.90      0.87      0.88       245\n",
            "     Neutral       0.84      0.87      0.85       254\n",
            "    Positive       0.92      0.93      0.93       289\n",
            "\n",
            "    accuracy                           0.89       788\n",
            "   macro avg       0.89      0.89      0.89       788\n",
            "weighted avg       0.89      0.89      0.89       788\n",
            "\n"
          ]
        }
      ]
    },
    {
      "cell_type": "markdown",
      "source": [
        "looks like it is realy hard to classify neutral reviews "
      ],
      "metadata": {
        "id": "1Z1r9IcC1FfU"
      }
    },
    {
      "cell_type": "code",
      "source": [
        "def show_confusion_matrix(confusion_matrix):\n",
        "  hmap = sns.heatmap(confusion_matrix, annot=True, fmt=\"d\", cmap=\"Blues\")\n",
        "  hmap.yaxis.set_ticklabels(hmap.yaxis.get_ticklabels(), rotation=0, ha='right')\n",
        "  hmap.xaxis.set_ticklabels(hmap.xaxis.get_ticklabels(), rotation=30, ha='right')\n",
        "  plt.ylabel('True sentiment')\n",
        "  plt.xlabel('Predicted sentiment');\n",
        "cm = confusion_matrix(y_test, pred)\n",
        "df_cm = pd.DataFrame(cm, index=classNames, columns=classNames)\n",
        "show_confusion_matrix(df_cm)"
      ],
      "metadata": {
        "colab": {
          "base_uri": "https://localhost:8080/",
          "height": 534
        },
        "id": "sFCCfzjoznQu",
        "outputId": "60cc38bd-6939-4353-90d0-c826fc7611ba"
      },
      "execution_count": 187,
      "outputs": [
        {
          "output_type": "display_data",
          "data": {
            "text/plain": [
              "<Figure size 864x576 with 2 Axes>"
            ],
            "image/png": "[encoded data removed]"
          },
          "metadata": {
            "image/png": {
              "width": 726,
              "height": 517
            }
          }
        }
      ]
    },
    {
      "cell_type": "markdown",
      "source": [
        "**Predicting on Raw Text**    \n",
        "Let’s use our model to predict the sentiment of some raw text:\n"
      ],
      "metadata": {
        "id": "k7d3stVt2dF0"
      }
    },
    {
      "cell_type": "code",
      "source": [
        "review_text = \"I love completing my todos! Best app ever!!!\""
      ],
      "metadata": {
        "id": "NMkIDrQFzw0U"
      },
      "execution_count": 188,
      "outputs": []
    },
    {
      "cell_type": "code",
      "source": [
        "review_encoding = tokenizer.encode_plus(\n",
        "    review_text,\n",
        "    max_length=32,\n",
        "    # add speical tokens [SEP] and [CLS]\n",
        "    add_special_tokens=True,\n",
        "    return_token_type_ids=False,\n",
        "    pad_to_max_length=True,\n",
        "    return_attention_mask=True,\n",
        "    return_tensors='pt',  # Return PyTorch tensors\n",
        ")"
      ],
      "metadata": {
        "colab": {
          "base_uri": "https://localhost:8080/"
        },
        "id": "_Wh6txK31aT2",
        "outputId": "c0e73475-6feb-4d81-864b-15366dc60ebc"
      },
      "execution_count": 190,
      "outputs": [
        {
          "output_type": "stream",
          "name": "stderr",
          "text": [
            "/usr/local/lib/python3.7/dist-packages/transformers/tokenization_utils_base.py:2308: FutureWarning: The `pad_to_max_length` argument is deprecated and will be removed in a future version, use `padding=True` or `padding='longest'` to pad to the longest sequence in the batch, or use `padding='max_length'` to pad to a max length. In this case, you can give a specific length with `max_length` (e.g. `max_length=45`) or leave max_length to None to pad to the maximal input size of the model (e.g. 512 for Bert).\n",
            "  FutureWarning,\n"
          ]
        }
      ]
    },
    {
      "cell_type": "code",
      "source": [
        "input_ids = review_encoding['input_ids'].to(device)\n",
        "attention_mask = review_encoding['attention_mask'].to(device)\n",
        "output = model(input_ids, attention_mask)\n",
        "_, prediction = torch.max(output, dim=1)\n",
        "print(f'Review text: {review_text}')\n",
        "print(f'Sentiment  : {classNames[prediction]}')"
      ],
      "metadata": {
        "colab": {
          "base_uri": "https://localhost:8080/"
        },
        "id": "Sa_W7Ml11z4m",
        "outputId": "20a86c3d-e7ea-4c91-9c34-35f6e3d4d0c6"
      },
      "execution_count": 192,
      "outputs": [
        {
          "output_type": "stream",
          "name": "stdout",
          "text": [
            "Review text: I love completing my todos! Best app ever!!!\n",
            "Sentiment  : Positive\n"
          ]
        }
      ]
    },
    {
      "cell_type": "code",
      "source": [],
      "metadata": {
        "id": "52jybhcY1-V0"
      },
      "execution_count": null,
      "outputs": []
    }
  ],
  "metadata": {
    "accelerator": "GPU",
    "colab": {
      "collapsed_sections": [],
      "provenance": [],
      "include_colab_link": true
    },
    "kernelspec": {
      "display_name": "Python 3",
      "language": "python",
      "name": "python3"
    },
    "language_info": {
      "codemirror_mode": {
        "name": "ipython",
        "version": 3
      },
      "file_extension": ".py",
      "mimetype": "text/x-python",
      "name": "python",
      "nbconvert_exporter": "python",
      "pygments_lexer": "ipython3",
      "version": "3.7.6"
    }
  },
  "nbformat": 4,
  "nbformat_minor": 0
}